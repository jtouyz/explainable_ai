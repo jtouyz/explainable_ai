{
 "metadata": {
  "language_info": {
   "codemirror_mode": {
    "name": "ipython",
    "version": 3
   },
   "file_extension": ".py",
   "mimetype": "text/x-python",
   "name": "python",
   "nbconvert_exporter": "python",
   "pygments_lexer": "ipython3",
   "version": 3
  },
  "orig_nbformat": 2
 },
 "nbformat": 4,
 "nbformat_minor": 2,
 "cells": [
  {
   "cell_type": "markdown",
   "metadata": {},
   "source": [
    "# ICEPLOT\n",
    "\n",
    "# Summary\n",
    "\n",
    "# LIME - Summary\n",
    "# Summary\n",
    "\n",
    "## Why we use it\n",
    "\n",
    "## What it used for\n",
    "\n",
    "# How it works\n",
    "\n",
    "### Notes on implementation\n",
    "\n",
    "# Pros/cons\n",
    "\n",
    "# Applications + examples\n",
    "- TO DO\n",
    "\n",
    "# Improvements\n",
    "\n",
    "# References\n"
   ]
  }
 ]
}